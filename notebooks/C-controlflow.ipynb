{
 "cells": [
  {
   "cell_type": "markdown",
   "metadata": {},
   "source": [
    "This is a Jupyter Notebook adaptation of the [Python 3 tutorial](https://docs.python.org/3.5/tutorial/controlflow.html)[^2].\n",
    "\n",
    "More Control Flow Tools\n",
    "=======================\n",
    "\n",
    "Besides the `while` statement just introduced, Python\n",
    "knows the usual control flow statements known from other languages, with\n",
    "some twists.\n",
    "\n",
    "`if` Statements\n",
    "-------------------------------\n",
    "\n",
    "Perhaps the most well-known statement type is the `if`\n",
    "statement. For example:"
   ]
  },
  {
   "cell_type": "code",
   "execution_count": null,
   "metadata": {},
   "outputs": [],
   "source": [
    "x = int(input(\"Please enter an integer: \"))"
   ]
  },
  {
   "cell_type": "code",
   "execution_count": null,
   "metadata": {},
   "outputs": [],
   "source": [
    "if x < 0:\n",
    "    x = 0\n",
    "    print('Negative changed to zero')\n",
    "elif x == 0:\n",
    "    print('Zero')\n",
    "elif x == 1:\n",
    "    print('Single')\n",
    "else:\n",
    "    print('More')"
   ]
  },
  {
   "cell_type": "markdown",
   "metadata": {},
   "source": [
    "There can be zero or more `elif` parts, and the\n",
    "`else` part is optional. The keyword\n",
    "`elif` is short for `else if`, and is useful to\n",
    "avoid excessive indentation. An `if` ... `elif` ... `elif` ... sequence is a\n",
    "substitute for the `switch` or `case` statements found in other\n",
    "languages.\n",
    "\n",
    "`for` Statements\n",
    "--------------------------------\n",
    "\n",
    "The `for` statement in Python differs a bit from what\n",
    "you may be used to in C or Pascal. Rather than always iterating over an\n",
    "arithmetic progression of numbers (like in Pascal), or giving the user\n",
    "the ability to define both the iteration step and halting condition (as\n",
    "C), Python's `for` statement iterates over the items of\n",
    "any sequence (a list or a string), in the order that they appear in the\n",
    "sequence. For example (no pun intended):"
   ]
  },
  {
   "cell_type": "code",
   "execution_count": null,
   "metadata": {},
   "outputs": [],
   "source": [
    "# Measure some strings:\n",
    "words = ['cat', 'window', 'defenestrate']"
   ]
  },
  {
   "cell_type": "code",
   "execution_count": null,
   "metadata": {},
   "outputs": [],
   "source": [
    "for w in words:\n",
    "    print(w, len(w))"
   ]
  },
  {
   "cell_type": "markdown",
   "metadata": {},
   "source": [
    "If you need to modify the sequence you are iterating over while inside\n",
    "the loop (for example to duplicate selected items), it is recommended\n",
    "that you first make a copy. Iterating over a sequence does not\n",
    "implicitly make a copy. The slice notation makes this especially\n",
    "convenient:"
   ]
  },
  {
   "cell_type": "code",
   "execution_count": null,
   "metadata": {},
   "outputs": [],
   "source": [
    "for w in words[:]:  # Loop over a slice copy of the entire list.\n",
    "    if len(w) > 6:\n",
    "        words.insert(0, w)"
   ]
  },
  {
   "cell_type": "code",
   "execution_count": null,
   "metadata": {},
   "outputs": [],
   "source": [
    "words"
   ]
  },
  {
   "cell_type": "markdown",
   "metadata": {},
   "source": [
    "The `range` Function\n",
    "---------------------------------\n",
    "\n",
    "If you do need to iterate over a sequence of numbers, the built-in\n",
    "function `range` comes in handy. It generates arithmetic\n",
    "progressions:"
   ]
  },
  {
   "cell_type": "code",
   "execution_count": null,
   "metadata": {},
   "outputs": [],
   "source": [
    "for i in range(5):\n",
    "    print(i)"
   ]
  },
  {
   "cell_type": "markdown",
   "metadata": {},
   "source": [
    "The given end point is never part of the generated sequence; `range(10)`\n",
    "generates 10 values, the legal indices for items of a sequence of length 10.\n",
    "It is possible to let the range start at another number, or to\n",
    "specify a different increment (even negative; sometimes this is called\n",
    "the 'step'):"
   ]
  },
  {
   "cell_type": "markdown",
   "metadata": {},
   "source": [
    "\n",
    "    range(5, 10)\n",
    "       5 through 9\n",
    "\n",
    "    range(0, 10, 3)\n",
    "       0, 3, 6, 9\n",
    "\n",
    "    range(-10, -100, -30)\n",
    "      -10, -40, -70\n"
   ]
  },
  {
   "cell_type": "markdown",
   "metadata": {},
   "source": [
    "To iterate over the indices of a sequence, you can combine\n",
    "[range]{role=\"func\"} and [len]{role=\"func\"} as follows:"
   ]
  },
  {
   "cell_type": "code",
   "execution_count": null,
   "metadata": {},
   "outputs": [],
   "source": [
    "a = ['Mary', 'had', 'a', 'little', 'lamb']"
   ]
  },
  {
   "cell_type": "code",
   "execution_count": null,
   "metadata": {},
   "outputs": [],
   "source": [
    "for i in range(len(a)):\n",
    "    print(i, a[i])"
   ]
  },
  {
   "cell_type": "markdown",
   "metadata": {},
   "source": [
    "In most such cases, however, it is convenient to use the\n",
    "`enumerate` function.\n",
    "\n",
    "A strange thing happens if you just print a range:"
   ]
  },
  {
   "cell_type": "code",
   "execution_count": null,
   "metadata": {},
   "outputs": [],
   "source": [
    "print(range(10))"
   ]
  },
  {
   "cell_type": "markdown",
   "metadata": {},
   "source": [
    "In many ways the object returned by `range` behaves as if\n",
    "it is a list, but in fact it isn't. It is an object which returns the\n",
    "successive items of the desired sequence when you iterate over it, but\n",
    "it doesn't really make the list, thus saving space.\n",
    "\n",
    "We say such an object is *iterable*, that is, suitable as a target for\n",
    "functions and constructs that expect something from which they can\n",
    "obtain successive items until the supply is exhausted. We have seen that\n",
    "the `for` statement is such an *iterator*. The function\n",
    "`list` is another; it creates lists from iterables:"
   ]
  },
  {
   "cell_type": "code",
   "execution_count": null,
   "metadata": {},
   "outputs": [],
   "source": [
    "list(range(5))"
   ]
  },
  {
   "cell_type": "markdown",
   "metadata": {},
   "source": [
    "Later we will see more functions that return iterables and take\n",
    "iterables as argument.\n",
    "\n",
    "`break` and `continue` Statements, and `else` Clauses on Loops\n",
    "--------------------------------------------------------------------------------------------------------------\n",
    "\n",
    "The `break` statement, like in C, breaks out of the\n",
    "innermost enclosing `for` or `while` loop.\n",
    "\n",
    "Loop statements may have an `else` clause; it is executed when the loop\n",
    "terminates through exhaustion of the list (with `for`)\n",
    "or when the condition becomes false (with `while`), but\n",
    "not when the loop is terminated by a `break` statement.\n",
    "This is exemplified by the following loop, which searches for prime\n",
    "numbers:"
   ]
  },
  {
   "cell_type": "code",
   "execution_count": null,
   "metadata": {},
   "outputs": [],
   "source": [
    "for n in range(2, 10):\n",
    "    for x in range(2, n):\n",
    "        if n % x == 0:\n",
    "            print(n, 'equals', x, '*', n//x)\n",
    "            break\n",
    "    else:\n",
    "        # loop fell through without finding a factor\n",
    "        print(n, 'is a prime number')"
   ]
  },
  {
   "cell_type": "markdown",
   "metadata": {},
   "source": [
    "(Yes, this is the correct code. Look closely: the `else` clause belongs\n",
    "to the `for` loop, **not** the `if` statement.)\n",
    "\n",
    "When used with a loop, the `else` clause has more in common with the\n",
    "`else` clause of a `try` statement than it does that of\n",
    "`if` statements: a `try` statement's\n",
    "`else` clause runs when no exception occurs, and a loop's `else` clause\n",
    "runs when no `break` occurs.\n",
    "\n",
    "The `continue` statement, also borrowed from C,\n",
    "continues with the next iteration of the loop:"
   ]
  },
  {
   "cell_type": "code",
   "execution_count": null,
   "metadata": {},
   "outputs": [],
   "source": [
    "for num in range(2, 10):\n",
    "    if num % 2 == 0:\n",
    "        print(\"Found an even number\", num)\n",
    "        continue\n",
    "    print(\"Found a number\", num)"
   ]
  },
  {
   "cell_type": "markdown",
   "metadata": {},
   "source": [
    "`pass` Statements\n",
    "---------------------------------\n",
    "\n",
    "The `pass` statement does nothing. It can be used when a\n",
    "statement is required syntactically but the program requires no action.\n",
    "For example: (this example is not a notebook cell because it would live-lock the ipython kernel, it can be tried by starting the interpreter on the command line, where it can be stopped with Ctrl+C)"
   ]
  },
  {
   "cell_type": "markdown",
   "metadata": {},
   "source": [
    "\n",
    "    while True:\n",
    "        pass  # Busy-wait for keyboard interrupt (Ctrl+C)\n"
   ]
  },
  {
   "cell_type": "markdown",
   "metadata": {},
   "source": [
    "This is commonly used for creating minimal classes:"
   ]
  },
  {
   "cell_type": "code",
   "execution_count": null,
   "metadata": {},
   "outputs": [],
   "source": [
    "class MyEmptyClass:\n",
    "    pass"
   ]
  },
  {
   "cell_type": "markdown",
   "metadata": {},
   "source": [
    "Another place `pass` can be used is as a place-holder\n",
    "for a function or conditional body when you are working on new code,\n",
    "allowing you to keep thinking at a more abstract level. The\n",
    "`pass` is silently ignored:"
   ]
  },
  {
   "cell_type": "code",
   "execution_count": null,
   "metadata": {},
   "outputs": [],
   "source": [
    "def initlog(*args):\n",
    "    pass   # Remember to implement this!"
   ]
  },
  {
   "cell_type": "markdown",
   "metadata": {},
   "source": [
    "Defining Functions\n",
    "------------------\n",
    "\n",
    "We can create a function that writes the Fibonacci series to an\n",
    "arbitrary boundary:"
   ]
  },
  {
   "cell_type": "code",
   "execution_count": null,
   "metadata": {},
   "outputs": [],
   "source": [
    "def fib(n):    # write Fibonacci series up to n\n",
    "    \"\"\"Print a Fibonacci series up to n.\"\"\"\n",
    "    a, b = 0, 1\n",
    "    while a < n:\n",
    "        print(a, end=' ')\n",
    "        a, b = b, a+b\n",
    "    print()"
   ]
  },
  {
   "cell_type": "code",
   "execution_count": null,
   "metadata": {},
   "outputs": [],
   "source": [
    "# Now call the function we just defined:\n",
    "fib(2000)"
   ]
  },
  {
   "cell_type": "markdown",
   "metadata": {},
   "source": [
    "The keyword `def` introduces a function *definition*. It\n",
    "must be followed by the function name and the parenthesized list of\n",
    "formal parameters. The statements that form the body of the function\n",
    "start at the next line, and must be indented.\n",
    "\n",
    "The first statement of the function body can optionally be a string\n",
    "literal; this string literal is the function's documentation string, or\n",
    "`docstring`. There are tools which use\n",
    "docstrings to automatically produce online or printed documentation, or\n",
    "to let the user interactively browse through code; it's good practice\n",
    "to include docstrings in code that you write, so make a habit of it.\n",
    "\n",
    "The *execution* of a function introduces a new symbol table used for the\n",
    "local variables of the function. More precisely, all variable\n",
    "assignments in a function store the value in the local symbol table;\n",
    "whereas variable references first look in the local symbol table, then\n",
    "in the local symbol tables of enclosing functions, then in the global\n",
    "symbol table, and finally in the table of built-in names. Thus, global\n",
    "variables cannot be directly assigned a value within a function (unless\n",
    "named in a `global` statement), although they may be\n",
    "referenced.\n",
    "\n",
    "The actual parameters (arguments) to a function call are introduced in\n",
    "the local symbol table of the called function when it is called; thus,\n",
    "arguments are passed using *call by value* (where the *value* is always\n",
    "an object *reference*, not the value of the object).[^1] When a function\n",
    "calls another function, a new local symbol table is created for that\n",
    "call.\n",
    "\n",
    "A function definition introduces the function name in the current symbol\n",
    "table. The value of the function name has a type that is recognized by\n",
    "the interpreter as a user-defined function. This value can be assigned\n",
    "to another name which can then also be used as a function. This serves\n",
    "as a general renaming mechanism:"
   ]
  },
  {
   "cell_type": "code",
   "execution_count": null,
   "metadata": {},
   "outputs": [],
   "source": [
    "fib"
   ]
  },
  {
   "cell_type": "code",
   "execution_count": null,
   "metadata": {},
   "outputs": [],
   "source": [
    "f = fib\n",
    "f(100)"
   ]
  },
  {
   "cell_type": "markdown",
   "metadata": {},
   "source": [
    "Coming from other languages, you might object that `fib` is not a\n",
    "function but a procedure since it doesn't return a value. In fact, even\n",
    "functions without a `return` statement do return a\n",
    "value, albeit a rather boring one. This value is called `None` (it's a\n",
    "built-in name). Writing the value `None` is normally suppressed by the\n",
    "interpreter if it would be the only value written. You can see it if you\n",
    "really want to using `print`:"
   ]
  },
  {
   "cell_type": "code",
   "execution_count": null,
   "metadata": {},
   "outputs": [],
   "source": [
    "fib(0)"
   ]
  },
  {
   "cell_type": "code",
   "execution_count": null,
   "metadata": {},
   "outputs": [],
   "source": [
    "print(fib(0))"
   ]
  },
  {
   "cell_type": "markdown",
   "metadata": {},
   "source": [
    "It is simple to write a function that returns a list of the numbers of\n",
    "the Fibonacci series, instead of printing it:"
   ]
  },
  {
   "cell_type": "code",
   "execution_count": null,
   "metadata": {},
   "outputs": [],
   "source": [
    "def fib2(n):  # return Fibonacci series up to n\n",
    "    \"\"\"Return a list containing the Fibonacci series up to n.\"\"\"\n",
    "    result = []\n",
    "    a, b = 0, 1\n",
    "    while a < n:\n",
    "        result.append(a)    # see below\n",
    "        a, b = b, a+b\n",
    "    return result"
   ]
  },
  {
   "cell_type": "code",
   "execution_count": null,
   "metadata": {},
   "outputs": [],
   "source": [
    "f100 = fib2(100)    # call it\n",
    "f100                # write the result"
   ]
  },
  {
   "cell_type": "markdown",
   "metadata": {},
   "source": [
    "This example, as usual, demonstrates some new Python features:\n",
    "\n",
    "-   The `return` statement returns with a value from a\n",
    "    function. `return` without an expression argument\n",
    "    returns `None`. Falling off the end of a function also returns\n",
    "    `None`.\n",
    "-   The statement `result.append(a)` calls a *method* of the list object\n",
    "    `result`. A method is a function that 'belongs' to an object and\n",
    "    is named `obj.methodname`, where `obj` is some object (this may be\n",
    "    an expression), and `methodname` is the name of a method that is\n",
    "    defined by the object's type. Different types define different\n",
    "    methods. Methods of different types may have the same name without\n",
    "    causing ambiguity. (It is possible to define your own object types\n",
    "    and methods, using *classes*) The\n",
    "    method `append` shown in the example is defined for\n",
    "    list objects; it adds a new element at the end of the list. In this\n",
    "    example it is equivalent to `result = result + [a]`, but more\n",
    "    efficient.\n",
    "\n",
    "More on Defining Functions\n",
    "--------------------------\n",
    "\n",
    "It is also possible to define functions with a variable number of\n",
    "arguments. There are three forms, which can be combined.\n",
    "\n",
    "### Default Argument Values\n",
    "\n",
    "The most useful form is to specify a default value for one or more\n",
    "arguments. This creates a function that can be called with fewer\n",
    "arguments than it is defined to allow. For example:"
   ]
  },
  {
   "cell_type": "code",
   "execution_count": null,
   "metadata": {},
   "outputs": [],
   "source": [
    "def ask_ok(prompt, retries=4, reminder='Please try again!'):\n",
    "    while True:\n",
    "        ok = input(prompt)\n",
    "        if ok in ('y', 'ye', 'yes'):\n",
    "            return True\n",
    "        if ok in ('n', 'no', 'nop', 'nope'):\n",
    "            return False\n",
    "        retries = retries - 1\n",
    "        if retries < 0:\n",
    "            raise ValueError('invalid user response')\n",
    "        print(reminder)"
   ]
  },
  {
   "cell_type": "markdown",
   "metadata": {},
   "source": [
    "This function can be called in several ways:\n",
    "\n",
    "-   giving only the mandatory argument:"
   ]
  },
  {
   "cell_type": "code",
   "execution_count": null,
   "metadata": {},
   "outputs": [],
   "source": [
    "ask_ok('Do you really want to quit?')"
   ]
  },
  {
   "cell_type": "markdown",
   "metadata": {},
   "source": [
    "-   giving one of the optional arguments:"
   ]
  },
  {
   "cell_type": "code",
   "execution_count": null,
   "metadata": {},
   "outputs": [],
   "source": [
    "ask_ok('OK to overwrite the file?', 2)"
   ]
  },
  {
   "cell_type": "markdown",
   "metadata": {},
   "source": [
    "-   or even giving all arguments:"
   ]
  },
  {
   "cell_type": "code",
   "execution_count": null,
   "metadata": {},
   "outputs": [],
   "source": [
    "ask_ok('OK to overwrite the file?', 2, 'Come on, only yes or no!')"
   ]
  },
  {
   "cell_type": "markdown",
   "metadata": {},
   "source": [
    "This example also introduces the `in` keyword. This\n",
    "tests whether or not a sequence contains a certain value.\n",
    "\n",
    "The default values are evaluated at the point of function definition in\n",
    "the *defining* scope, so that :"
   ]
  },
  {
   "cell_type": "code",
   "execution_count": null,
   "metadata": {},
   "outputs": [],
   "source": [
    "i = 5\n",
    "\n",
    "def f(arg=i):\n",
    "    print(arg)\n",
    "\n",
    "i = 6\n",
    "f()"
   ]
  },
  {
   "cell_type": "markdown",
   "metadata": {},
   "source": [
    "will print `5`.\n",
    "\n",
    "**Important warning:** The default value is evaluated only once. This\n",
    "makes a difference when the default is a mutable object such as a list,\n",
    "dictionary, or instances of most classes. For example, the following\n",
    "function accumulates the arguments passed to it on subsequent calls:"
   ]
  },
  {
   "cell_type": "code",
   "execution_count": null,
   "metadata": {},
   "outputs": [],
   "source": [
    "def f(a, L=[]):\n",
    "    L.append(a)\n",
    "    return L\n",
    "\n",
    "print(f(1))\n",
    "print(f(2))\n",
    "print(f(3))"
   ]
  },
  {
   "cell_type": "markdown",
   "metadata": {},
   "source": [
    "This will print :"
   ]
  },
  {
   "cell_type": "markdown",
   "metadata": {},
   "source": [
    "\n",
    "    [1]\n",
    "    [1, 2]\n",
    "    [1, 2, 3]\n"
   ]
  },
  {
   "cell_type": "markdown",
   "metadata": {},
   "source": [
    "If you don't want the default to be shared between subsequent calls,\n",
    "you can write the function like this instead:"
   ]
  },
  {
   "cell_type": "code",
   "execution_count": null,
   "metadata": {},
   "outputs": [],
   "source": [
    "def f(a, L=None):\n",
    "    if L is None:\n",
    "        L = []\n",
    "    L.append(a)\n",
    "    return L\n",
    "\n",
    "print(f(1))\n",
    "print(f(2))\n",
    "print(f(3))"
   ]
  },
  {
   "cell_type": "markdown",
   "metadata": {},
   "source": [
    "### Keyword Arguments\n",
    "\n",
    "Functions can also be called using\n",
    "`keyword arguments` of the form\n",
    "`kwarg=value`. For instance, the following function:"
   ]
  },
  {
   "cell_type": "code",
   "execution_count": null,
   "metadata": {},
   "outputs": [],
   "source": [
    "def parrot(voltage, state='a stiff', action='voom', type='Norwegian Blue'):\n",
    "    print(\"-- This parrot wouldn't\", action, end=' ')\n",
    "    print(\"if you put\", voltage, \"volts through it.\")\n",
    "    print(\"-- Lovely plumage, the\", type)\n",
    "    print(\"-- It's\", state, \"!\")"
   ]
  },
  {
   "cell_type": "markdown",
   "metadata": {},
   "source": [
    "accepts one required argument (`voltage`) and three optional arguments\n",
    "(`state`, `action`, and `type`). This function can be called in any of\n",
    "the following ways:"
   ]
  },
  {
   "cell_type": "code",
   "execution_count": null,
   "metadata": {},
   "outputs": [],
   "source": [
    "parrot(1000)                                          # 1 positional argument\n",
    "parrot(voltage=1000)                                  # 1 keyword argument\n",
    "parrot(voltage=1000000, action='VOOOOOM')             # 2 keyword arguments\n",
    "parrot(action='VOOOOOM', voltage=1000000)             # 2 keyword arguments\n",
    "parrot('a million', 'bereft of life', 'jump')         # 3 positional arguments\n",
    "parrot('a thousand', state='pushing up the daisies')  # 1 positional, 1 keyword"
   ]
  },
  {
   "cell_type": "markdown",
   "metadata": {},
   "source": [
    "but all the following calls would be invalid:"
   ]
  },
  {
   "cell_type": "code",
   "execution_count": null,
   "metadata": {},
   "outputs": [],
   "source": [
    "parrot()                     # required argument missing\n",
    "parrot(voltage=5.0, 'dead')  # non-keyword argument after a keyword argument\n",
    "parrot(110, voltage=220)     # duplicate value for the same argument\n",
    "parrot(actor='John Cleese')  # unknown keyword argument"
   ]
  },
  {
   "cell_type": "markdown",
   "metadata": {},
   "source": [
    "In a function call, keyword arguments must follow positional arguments.\n",
    "All the keyword arguments passed must match one of the arguments\n",
    "accepted by the function (e.g. `actor` is not a valid argument for the\n",
    "`parrot` function), and their order is not important. This also includes\n",
    "non-optional arguments (e.g. `parrot(voltage=1000)` is valid too). No\n",
    "argument may receive a value more than once. Here's an example that\n",
    "fails due to this restriction:"
   ]
  },
  {
   "cell_type": "code",
   "execution_count": null,
   "metadata": {},
   "outputs": [],
   "source": [
    "def function(a):\n",
    "    pass\n",
    "function(0, a=0)"
   ]
  },
  {
   "cell_type": "markdown",
   "metadata": {},
   "source": [
    "When a final formal parameter of the form `**name` is present, it\n",
    "receives a dictionary (see `typesmapping`) containing all\n",
    "keyword arguments except for those corresponding to a formal parameter.\n",
    "This may be combined with a formal parameter of the form `*name`\n",
    "(described in the next subsection) which receives a tuple containing the\n",
    "positional arguments beyond the formal parameter list. (`*name` must\n",
    "occur before `**name`.) For example, if we define a function like this:"
   ]
  },
  {
   "cell_type": "code",
   "execution_count": null,
   "metadata": {},
   "outputs": [],
   "source": [
    "def cheeseshop(kind, *arguments, **keywords):\n",
    "    print(\"-- Do you have any\", kind, \"?\")\n",
    "    print(\"-- I'm sorry, we're all out of\", kind)\n",
    "    for arg in arguments:\n",
    "        print(arg)\n",
    "    print(\"-\" * 40)\n",
    "    keys = sorted(keywords.keys())\n",
    "    for kw in keys:\n",
    "        print(kw, \":\", keywords[kw])"
   ]
  },
  {
   "cell_type": "markdown",
   "metadata": {},
   "source": [
    "It could be called like this:"
   ]
  },
  {
   "cell_type": "code",
   "execution_count": null,
   "metadata": {},
   "outputs": [],
   "source": [
    "cheeseshop(\"Limburger\", \"It's very runny, sir.\",\n",
    "           \"It's really very, VERY runny, sir.\",\n",
    "           shopkeeper=\"Michael Palin\",\n",
    "           client=\"John Cleese\",\n",
    "           sketch=\"Cheese Shop Sketch\")"
   ]
  },
  {
   "cell_type": "markdown",
   "metadata": {},
   "source": [
    "Note that the list of keyword argument names is created by sorting the\n",
    "result of the keywords dictionary's `keys()` method before printing its\n",
    "contents; if this is not done, the order in which the arguments are\n",
    "printed is undefined.\n",
    "\n",
    "### Arbitrary Argument Lists\n",
    "\n",
    "Finally, the least frequently used option is to specify that a function\n",
    "can be called with an arbitrary number of arguments. These arguments\n",
    "will be wrapped up in a tuple. Before the\n",
    "variable number of arguments, zero or more normal arguments may occur. :"
   ]
  },
  {
   "cell_type": "markdown",
   "metadata": {},
   "source": [
    "\n",
    "    def write_multiple_items(file, separator, *args):\n",
    "        file.write(separator.join(args))\n"
   ]
  },
  {
   "cell_type": "markdown",
   "metadata": {},
   "source": [
    "Normally, these `variadic` arguments will be last in the list of formal\n",
    "parameters, because they scoop up all remaining input arguments that are\n",
    "passed to the function. Any formal parameters which occur after the\n",
    "`*args` parameter are 'keyword-only' arguments, meaning that they can\n",
    "only be used as keywords rather than positional arguments. :"
   ]
  },
  {
   "cell_type": "code",
   "execution_count": null,
   "metadata": {},
   "outputs": [],
   "source": [
    "def concat(*args, sep=\"/\"):\n",
    "    return sep.join(args)"
   ]
  },
  {
   "cell_type": "code",
   "execution_count": null,
   "metadata": {},
   "outputs": [],
   "source": [
    "concat(\"earth\", \"mars\", \"venus\")"
   ]
  },
  {
   "cell_type": "code",
   "execution_count": null,
   "metadata": {},
   "outputs": [],
   "source": [
    "concat(\"earth\", \"mars\", \"venus\", sep=\".\")"
   ]
  },
  {
   "cell_type": "markdown",
   "metadata": {},
   "source": [
    "### Unpacking Argument Lists\n",
    "\n",
    "The reverse situation occurs when the arguments are already in a list or\n",
    "tuple but need to be unpacked for a function call requiring separate\n",
    "positional arguments. For instance, the built-in `range`\n",
    "function expects separate *start* and *stop* arguments. If they are not\n",
    "available separately, write the function call with the `*`-operator to\n",
    "unpack the arguments out of a list or tuple:"
   ]
  },
  {
   "cell_type": "code",
   "execution_count": null,
   "metadata": {},
   "outputs": [],
   "source": [
    "list(range(3, 6))            # normal call with separate arguments"
   ]
  },
  {
   "cell_type": "code",
   "execution_count": null,
   "metadata": {},
   "outputs": [],
   "source": [
    "args = [3, 6]\n",
    "list(range(*args))            # call with arguments unpacked from a list"
   ]
  },
  {
   "cell_type": "markdown",
   "metadata": {},
   "source": [
    "In the same fashion, dictionaries can deliver keyword arguments with the\n",
    "`**`-operator:"
   ]
  },
  {
   "cell_type": "code",
   "execution_count": null,
   "metadata": {},
   "outputs": [],
   "source": [
    "def parrot(voltage, state='a stiff', action='voom'):\n",
    "    print(\"-- This parrot wouldn't\", action, end=' ')\n",
    "    print(\"if you put\", voltage, \"volts through it.\", end=' ')\n",
    "    print(\"E's\", state, \"!\")"
   ]
  },
  {
   "cell_type": "code",
   "execution_count": null,
   "metadata": {},
   "outputs": [],
   "source": [
    "d = {\"voltage\": \"four million\", \"state\": \"bleedin' demised\", \"action\": \"VOOM\"}\n",
    "parrot(**d)"
   ]
  },
  {
   "cell_type": "markdown",
   "metadata": {},
   "source": [
    "### Lambda Expressions\n",
    "\n",
    "Small anonymous functions can be created with the\n",
    "`lambda` keyword. This function returns the sum of its\n",
    "two arguments: `lambda a, b: a+b`. Lambda functions can be used wherever\n",
    "function objects are required. They are syntactically restricted to a\n",
    "single expression. Semantically, they are just syntactic sugar for a\n",
    "normal function definition. Like nested function definitions, lambda\n",
    "functions can reference variables from the containing scope:"
   ]
  },
  {
   "cell_type": "code",
   "execution_count": null,
   "metadata": {},
   "outputs": [],
   "source": [
    "def make_incrementor(n):\n",
    "    return lambda x: x + n"
   ]
  },
  {
   "cell_type": "code",
   "execution_count": null,
   "metadata": {},
   "outputs": [],
   "source": [
    "f = make_incrementor(42)\n",
    "f(0)"
   ]
  },
  {
   "cell_type": "code",
   "execution_count": null,
   "metadata": {},
   "outputs": [],
   "source": [
    "f(1)"
   ]
  },
  {
   "cell_type": "markdown",
   "metadata": {},
   "source": [
    "The above example uses a lambda expression to return a function. Another\n",
    "use is to pass a small function as an argument:"
   ]
  },
  {
   "cell_type": "code",
   "execution_count": null,
   "metadata": {},
   "outputs": [],
   "source": [
    "pairs = [(1, 'one'), (2, 'two'), (3, 'three'), (4, 'four')]\n",
    "pairs.sort(key=lambda pair: pair[1])"
   ]
  },
  {
   "cell_type": "code",
   "execution_count": null,
   "metadata": {},
   "outputs": [],
   "source": [
    "pairs"
   ]
  },
  {
   "cell_type": "markdown",
   "metadata": {},
   "source": [
    "### Documentation Strings\n",
    "\n",
    "Here are some conventions about the content and formatting of\n",
    "documentation strings.\n",
    "\n",
    "The first line should always be a short, concise summary of the\n",
    "object's purpose. For brevity, it should not explicitly state the\n",
    "object's name or type, since these are available by other means (except\n",
    "if the name happens to be a verb describing a function's operation).\n",
    "This line should begin with a capital letter and end with a period.\n",
    "\n",
    "If there are more lines in the documentation string, the second line\n",
    "should be blank, visually separating the summary from the rest of the\n",
    "description. The following lines should be one or more paragraphs\n",
    "describing the object's calling conventions, its side effects, etc.\n",
    "\n",
    "The Python parser does not strip indentation from multi-line string\n",
    "literals in Python, so tools that process documentation have to strip\n",
    "indentation if desired. This is done using the following convention. The\n",
    "first non-blank line *after* the first line of the string determines the\n",
    "amount of indentation for the entire documentation string. (We can't\n",
    "use the first line since it is generally adjacent to the string's\n",
    "opening quotes so its indentation is not apparent in the string\n",
    "literal.) Whitespace \"equivalent\" to this indentation is then stripped\n",
    "from the start of all lines of the string. Lines that are indented less\n",
    "should not occur, but if they occur all their leading whitespace should\n",
    "be stripped. Equivalence of whitespace should be tested after expansion\n",
    "of tabs (to 8 spaces, normally).\n",
    "\n",
    "Here is an example of a multi-line docstring:"
   ]
  },
  {
   "cell_type": "code",
   "execution_count": null,
   "metadata": {},
   "outputs": [],
   "source": [
    "def my_function():\n",
    "    \"\"\"Do nothing, but document it.\n",
    "    No, really, it doesn't do anything.\n",
    "    \"\"\"\n",
    "    pass"
   ]
  },
  {
   "cell_type": "code",
   "execution_count": null,
   "metadata": {},
   "outputs": [],
   "source": [
    "print(my_function.__doc__)"
   ]
  },
  {
   "cell_type": "markdown",
   "metadata": {},
   "source": [
    "### Function Annotations\n",
    "\n",
    "`Function annotations` are completely optional\n",
    "metadata information about the types used by user-defined functions (see\n",
    "`484` for more information).\n",
    "\n",
    "Annotations are stored in the `__annotations__`\n",
    "attribute of the function as a dictionary and have no effect on any\n",
    "other part of the function. Parameter annotations are defined by a colon\n",
    "after the parameter name, followed by an expression evaluating to the\n",
    "value of the annotation. Return annotations are defined by a literal\n",
    "`->`, followed by an expression, between the parameter list and the\n",
    "colon denoting the end of the `def` statement. The\n",
    "following example has a positional argument, a keyword argument, and the\n",
    "return value annotated:"
   ]
  },
  {
   "cell_type": "code",
   "execution_count": null,
   "metadata": {},
   "outputs": [],
   "source": [
    "def f(ham: str, eggs: str = 'eggs') -> str:\n",
    "    print(\"Annotations:\", f.__annotations__)\n",
    "    print(\"Arguments:\", ham, eggs)\n",
    "    return ham + ' and ' + eggs"
   ]
  },
  {
   "cell_type": "code",
   "execution_count": null,
   "metadata": {},
   "outputs": [],
   "source": [
    "f('spam')"
   ]
  },
  {
   "cell_type": "markdown",
   "metadata": {},
   "source": [
    "Intermezzo: Coding Style\n",
    "------------------------\n",
    "\n",
    "Now that you are about to write longer, more complex pieces of Python,\n",
    "it is a good time to talk about *coding style*. Most languages can be\n",
    "written (or more concise, *formatted*) in different styles; some are\n",
    "more readable than others. Making it easy for others to read your code\n",
    "is always a good idea, and adopting a nice coding style helps\n",
    "tremendously for that.\n",
    "\n",
    "For Python, `8` has emerged as the style guide that most\n",
    "projects adhere to; it promotes a very readable and eye-pleasing coding\n",
    "style. Every Python developer should read it at some point; here are the\n",
    "most important points extracted for you:\n",
    "\n",
    "-   Use 4-space indentation, and no tabs."
   ]
  },
  {
   "cell_type": "markdown",
   "metadata": {},
   "source": [
    "\n",
    "    4 spaces are a good compromise between small indentation (allows\n",
    "    greater nesting depth) and large indentation (easier to read). Tabs\n",
    "    introduce confusion, and are best left out.\n"
   ]
  },
  {
   "cell_type": "markdown",
   "metadata": {},
   "source": [
    "-   Wrap lines so that they don't exceed 79 characters."
   ]
  },
  {
   "cell_type": "markdown",
   "metadata": {},
   "source": [
    "\n",
    "    This helps users with small displays and makes it possible to have\n",
    "    several code files side-by-side on larger displays.\n"
   ]
  },
  {
   "cell_type": "markdown",
   "metadata": {},
   "source": [
    "-   Use blank lines to separate functions and classes, and larger blocks\n",
    "    of code inside functions.\n",
    "-   When possible, put comments on a line of their own.\n",
    "-   Use docstrings.\n",
    "-   Use spaces around operators and after commas, but not directly\n",
    "    inside bracketing constructs: `a = f(1, 2) + g(3, 4)`.\n",
    "-   Name your classes and functions consistently; the convention is to\n",
    "    use `CamelCase` for classes and `lower_case_with_underscores` for\n",
    "    functions and methods. Always use `self` as the name for the first\n",
    "    method argument.\n",
    "-   Don't use fancy encodings if your code is meant to be used in\n",
    "    international environments. Python's default, UTF-8, or even plain\n",
    "    ASCII work best in any case.\n",
    "-   Likewise, don't use non-ASCII characters in identifiers if there is\n",
    "    only the slightest chance people speaking a different language will\n",
    "    read or maintain the code.\n",
    "\n",
    "**Footnotes**\n",
    "\n",
    "[^1]: Actually, *call by object reference* would be a better\n",
    "    description, since if a mutable object is passed, the caller will\n",
    "    see any changes the callee makes to it (items inserted into a list).\n",
    "\n",
    "[^2]: Copyright (c) 2001, 2002, 2003, 2004, 2005, 2006, 2007, 2008, 2009, 2010,\n",
    "2011, 2012, 2013, 2014, 2015, 2016, 2017, 2018 Python Software Foundation; All\n",
    "Rights Reserved. [Python Software Foundation License Version 2](https://github.com/python/cpython/blob/3.7/LICENSE)"
   ]
  }
 ],
 "metadata": {
  "kernelspec": {
   "display_name": "Python 3 (ipykernel)",
   "language": "python",
   "name": "python3"
  },
  "language_info": {
   "codemirror_mode": {
    "name": "ipython",
    "version": 3
   },
   "file_extension": ".py",
   "mimetype": "text/x-python",
   "name": "python",
   "nbconvert_exporter": "python",
   "pygments_lexer": "ipython3",
   "version": "3.12.3"
  },
  "vscode": {
   "interpreter": {
    "hash": "1c78f10d2235d1cc76672263ebc37c14f728e879c04c113ab28debe73ea4c75b"
   }
  }
 },
 "nbformat": 4,
 "nbformat_minor": 4
}
