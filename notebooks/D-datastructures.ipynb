{
 "cells": [
  {
   "cell_type": "markdown",
   "metadata": {},
   "source": [
    "This is a Jupyter Notebook adaptation of the [Python 3 tutorial](https://docs.python.org/3.5/tutorial/datastructures.html)[^3].\n",
    "\n",
    "Data Structures\n",
    "===============\n",
    "\n",
    "This chapter describes some things you've learned about already in more\n",
    "detail, and adds some new things as well.\n",
    "\n",
    "More on Lists\n",
    "-------------\n",
    "\n",
    "The list data type has some more methods. Here are all of the methods of\n",
    "list objects:\n",
    "\n",
    "`list.append(x)`\n",
    "\n",
    "*Add an item to the end of the list. Equivalent to `a[len(a):] = [x]`.*\n",
    "\n",
    "`list.extend(iterable)`\n",
    "\n",
    "*Extend the list by appending all the items from the iterable. Equivalent\n",
    "to `a[len(a):] = iterable`.*\n",
    "\n",
    "`list.insert(i, x)`\n",
    "\n",
    "*Insert an item at a given position. The first argument is the index of\n",
    "the element before which to insert, so `a.insert(0, x)` inserts at the\n",
    "front of the list, and `a.insert(len(a), x)` is equivalent to\n",
    "`a.append(x)`.*\n",
    "\n",
    "`list.remove(x)`\n",
    "\n",
    "*Remove the first item from the list whose value is *x*. It is an error\n",
    "if there is no such item.*\n",
    "\n",
    "`list.pop([i])`\n",
    "\n",
    "*Remove the item at the given position in the list, and return it. If no\n",
    "index is specified, `a.pop()` removes and returns the last item in the\n",
    "list. (The square brackets around the *i* in the method signature denote\n",
    "that the parameter is optional, not that you should type square brackets\n",
    "at that position. You will see this notation frequently in the Python\n",
    "Library Reference.)*\n",
    "\n",
    "`list.clear()`\n",
    "\n",
    "*Remove all items from the list. Equivalent to `del a[:]`.*\n",
    "\n",
    "`list.index(x[, start[, end]])`\n",
    "\n",
    "*Return zero-based index in the list of the first item whose value is\n",
    "*x*. Raises a `ValueError` if there is no such item.\n",
    "\n",
    "The optional arguments *start* and *end* are interpreted as in the slice\n",
    "notation and are used to limit the search to a particular subsequence of\n",
    "the list. The returned index is computed relative to the beginning of\n",
    "the full sequence rather than the *start* argument.*\n",
    "\n",
    "`list.count(x)`\n",
    "\n",
    "*Return the number of times *x* appears in the list.*\n",
    "\n",
    "`list.sort(key=None, reverse=False)`\n",
    "\n",
    "*Sort the items of the list in place (the arguments can be used for sort\n",
    "customization, see `sorted` for their explanation).*\n",
    "\n",
    "`list.reverse()`\n",
    "\n",
    "*Reverse the elements of the list in place.*\n",
    "\n",
    "`list.copy()`\n",
    "\n",
    "*Return a shallow copy of the list. Equivalent to `a[:]`.*\n",
    "\n",
    "An example that uses most of the list methods:"
   ]
  },
  {
   "cell_type": "code",
   "execution_count": null,
   "metadata": {},
   "outputs": [],
   "source": [
    "fruits = ['orange', 'apple', 'pear', 'banana', 'kiwi', 'apple', 'banana']\n",
    "fruits.count('apple')"
   ]
  },
  {
   "cell_type": "code",
   "execution_count": null,
   "metadata": {},
   "outputs": [],
   "source": [
    "fruits.count('tangerine')"
   ]
  },
  {
   "cell_type": "code",
   "execution_count": null,
   "metadata": {},
   "outputs": [],
   "source": [
    "fruits.index('banana')"
   ]
  },
  {
   "cell_type": "code",
   "execution_count": null,
   "metadata": {},
   "outputs": [],
   "source": [
    "fruits.index('banana', 4)  # Find next banana starting a position 4"
   ]
  },
  {
   "cell_type": "code",
   "execution_count": null,
   "metadata": {},
   "outputs": [],
   "source": [
    "fruits.reverse()\n",
    "fruits"
   ]
  },
  {
   "cell_type": "code",
   "execution_count": null,
   "metadata": {},
   "outputs": [],
   "source": [
    "fruits.append('grape')\n",
    "fruits"
   ]
  },
  {
   "cell_type": "code",
   "execution_count": null,
   "metadata": {},
   "outputs": [],
   "source": [
    "fruits.sort()\n",
    "fruits"
   ]
  },
  {
   "cell_type": "code",
   "execution_count": null,
   "metadata": {},
   "outputs": [],
   "source": [
    "fruits.pop()"
   ]
  },
  {
   "cell_type": "markdown",
   "metadata": {},
   "source": [
    "You might have noticed that methods like `insert`, `remove` or `sort`\n",
    "that only modify the list have no return value printed -- they return\n",
    "the default `None`.[^1] This is a design principle for all mutable data\n",
    "structures in Python.\n",
    "\n",
    "### Using Lists as Stacks\n",
    "\n",
    "The list methods make it very easy to use a list as a stack, where the\n",
    "last element added is the first element retrieved (\"last-in,\n",
    "first-out\"). To add an item to the top of the stack, use\n",
    "`append`. To retrieve an item from the top of the stack,\n",
    "use `pop` without an explicit index. For example:"
   ]
  },
  {
   "cell_type": "code",
   "execution_count": null,
   "metadata": {},
   "outputs": [],
   "source": [
    "stack = [3, 4, 5]\n",
    "stack.append(6)\n",
    "stack.append(7)\n",
    "stack"
   ]
  },
  {
   "cell_type": "code",
   "execution_count": null,
   "metadata": {},
   "outputs": [],
   "source": [
    "stack.pop()"
   ]
  },
  {
   "cell_type": "code",
   "execution_count": null,
   "metadata": {},
   "outputs": [],
   "source": [
    "stack"
   ]
  },
  {
   "cell_type": "code",
   "execution_count": null,
   "metadata": {},
   "outputs": [],
   "source": [
    "stack.pop()"
   ]
  },
  {
   "cell_type": "code",
   "execution_count": null,
   "metadata": {},
   "outputs": [],
   "source": [
    "stack.pop()"
   ]
  },
  {
   "cell_type": "code",
   "execution_count": null,
   "metadata": {},
   "outputs": [],
   "source": [
    "stack"
   ]
  },
  {
   "cell_type": "markdown",
   "metadata": {},
   "source": [
    "### Using Lists as Queues\n",
    "\n",
    "It is also possible to use a list as a queue, where the first element\n",
    "added is the first element retrieved (\"first-in, first-out\"); however,\n",
    "lists are not efficient for this purpose. While appends and pops from\n",
    "the end of list are fast, doing inserts or pops from the beginning of a\n",
    "list is slow (because all of the other elements have to be shifted by\n",
    "one).\n",
    "\n",
    "To implement a queue, use `collections.deque` which was\n",
    "designed to have fast appends and pops from both ends. For example:"
   ]
  },
  {
   "cell_type": "code",
   "execution_count": null,
   "metadata": {},
   "outputs": [],
   "source": [
    "from collections import deque\n",
    "queue = deque([\"Eric\", \"John\", \"Michael\"])\n",
    "queue.append(\"Terry\")           # Terry arrives\n",
    "queue.append(\"Graham\")          # Graham arrives\n",
    "queue"
   ]
  },
  {
   "cell_type": "code",
   "execution_count": null,
   "metadata": {},
   "outputs": [],
   "source": [
    "queue.popleft()                 # The first to arrive now leaves"
   ]
  },
  {
   "cell_type": "code",
   "execution_count": null,
   "metadata": {},
   "outputs": [],
   "source": [
    "queue.popleft()                 # The second to arrive now leaves"
   ]
  },
  {
   "cell_type": "code",
   "execution_count": null,
   "metadata": {},
   "outputs": [],
   "source": [
    "queue                           # Remaining queue in order of arrival"
   ]
  },
  {
   "cell_type": "markdown",
   "metadata": {},
   "source": [
    "### List Comprehensions\n",
    "\n",
    "List comprehensions provide a concise way to create lists. Common\n",
    "applications are to make new lists where each element is the result of\n",
    "some operations applied to each member of another sequence or iterable,\n",
    "or to create a subsequence of those elements that satisfy a certain\n",
    "condition.\n",
    "\n",
    "For example, assume we want to create a list of squares, like:"
   ]
  },
  {
   "cell_type": "code",
   "execution_count": null,
   "metadata": {},
   "outputs": [],
   "source": [
    "squares = []\n",
    "for x in range(10):\n",
    "    squares.append(x**2)"
   ]
  },
  {
   "cell_type": "code",
   "execution_count": null,
   "metadata": {},
   "outputs": [],
   "source": [
    "squares"
   ]
  },
  {
   "cell_type": "markdown",
   "metadata": {},
   "source": [
    "Note that this creates (or overwrites) a variable named `x` that still\n",
    "exists after the loop completes. We can calculate the list of squares\n",
    "without any side effects using:"
   ]
  },
  {
   "cell_type": "code",
   "execution_count": null,
   "metadata": {},
   "outputs": [],
   "source": [
    "squares = list(map(lambda x: x**2, range(10)))"
   ]
  },
  {
   "cell_type": "markdown",
   "metadata": {},
   "source": [
    "or, equivalently:"
   ]
  },
  {
   "cell_type": "code",
   "execution_count": null,
   "metadata": {},
   "outputs": [],
   "source": [
    "squares = [x**2 for x in range(10)]"
   ]
  },
  {
   "cell_type": "markdown",
   "metadata": {},
   "source": [
    "which is more concise and readable.\n",
    "\n",
    "A list comprehension consists of brackets containing an expression\n",
    "followed by a `for` clause, then zero or more\n",
    "`for` or `if` clauses. The result will\n",
    "be a new list resulting from evaluating the expression in the context of\n",
    "the `for` and `if` clauses which follow\n",
    "it. For example, this listcomp combines the elements of two lists if\n",
    "they are not equal:"
   ]
  },
  {
   "cell_type": "code",
   "execution_count": null,
   "metadata": {},
   "outputs": [],
   "source": [
    "[(x, y) for x in [1,2,3] for y in [3,1,4] if x != y]"
   ]
  },
  {
   "cell_type": "markdown",
   "metadata": {},
   "source": [
    "and it's equivalent to:"
   ]
  },
  {
   "cell_type": "code",
   "execution_count": null,
   "metadata": {},
   "outputs": [],
   "source": [
    "combs = []\n",
    "for x in [1,2,3]:\n",
    "    for y in [3,1,4]:\n",
    "        if x != y:\n",
    "            combs.append((x, y))"
   ]
  },
  {
   "cell_type": "code",
   "execution_count": null,
   "metadata": {},
   "outputs": [],
   "source": [
    "combs"
   ]
  },
  {
   "cell_type": "markdown",
   "metadata": {},
   "source": [
    "Note how the order of the `for` and `if`\n",
    "statements is the same in both these snippets.\n",
    "\n",
    "If the expression is a tuple (e.g. the `(x, y)` in the previous\n",
    "example), it must be parenthesized. :"
   ]
  },
  {
   "cell_type": "code",
   "execution_count": null,
   "metadata": {},
   "outputs": [],
   "source": [
    "vec = [-4, -2, 0, 2, 4]\n",
    "# create a new list with the values doubled\n",
    "[x*2 for x in vec]"
   ]
  },
  {
   "cell_type": "code",
   "execution_count": null,
   "metadata": {},
   "outputs": [],
   "source": [
    "# filter the list to exclude negative numbers\n",
    "[x for x in vec if x >= 0]"
   ]
  },
  {
   "cell_type": "code",
   "execution_count": null,
   "metadata": {},
   "outputs": [],
   "source": [
    "# apply a function to all the elements\n",
    "[abs(x) for x in vec]"
   ]
  },
  {
   "cell_type": "code",
   "execution_count": null,
   "metadata": {},
   "outputs": [],
   "source": [
    "# call a method on each element\n",
    "freshfruit = ['  banana', '  loganberry ', 'passion fruit  ']\n",
    "[weapon.strip() for weapon in freshfruit]"
   ]
  },
  {
   "cell_type": "code",
   "execution_count": null,
   "metadata": {},
   "outputs": [],
   "source": [
    "# create a list of 2-tuples like (number, square)\n",
    "[(x, x**2) for x in range(6)]"
   ]
  },
  {
   "cell_type": "code",
   "execution_count": null,
   "metadata": {},
   "outputs": [],
   "source": [
    "# the tuple must be parenthesized, otherwise an error is raised\n",
    "[x, x**2 for x in range(6)]"
   ]
  },
  {
   "cell_type": "code",
   "execution_count": null,
   "metadata": {},
   "outputs": [],
   "source": [
    "# flatten a list using a listcomp with two 'for'\n",
    "vec = [[1,2,3], [4,5,6], [7,8,9]]\n",
    "[num for elem in vec for num in elem]"
   ]
  },
  {
   "cell_type": "markdown",
   "metadata": {},
   "source": [
    "List comprehensions can contain complex expressions and nested\n",
    "functions:"
   ]
  },
  {
   "cell_type": "code",
   "execution_count": null,
   "metadata": {},
   "outputs": [],
   "source": [
    "from math import pi\n",
    "[str(round(pi, i)) for i in range(1, 6)]"
   ]
  },
  {
   "cell_type": "markdown",
   "metadata": {},
   "source": [
    "### Nested List Comprehensions\n",
    "\n",
    "The initial expression in a list comprehension can be any arbitrary\n",
    "expression, including another list comprehension.\n",
    "\n",
    "Consider the following example of a 3x4 matrix implemented as a list of\n",
    "3 lists of length 4:"
   ]
  },
  {
   "cell_type": "code",
   "execution_count": null,
   "metadata": {},
   "outputs": [],
   "source": [
    "matrix = [\n",
    "    [1, 2, 3, 4],\n",
    "    [5, 6, 7, 8],\n",
    "    [9, 10, 11, 12],\n",
    "]"
   ]
  },
  {
   "cell_type": "markdown",
   "metadata": {},
   "source": [
    "The following list comprehension will transpose rows and columns:"
   ]
  },
  {
   "cell_type": "code",
   "execution_count": null,
   "metadata": {},
   "outputs": [],
   "source": [
    "[[row[i] for row in matrix] for i in range(4)]"
   ]
  },
  {
   "cell_type": "markdown",
   "metadata": {},
   "source": [
    "As we saw in the previous section, the nested listcomp is evaluated in\n",
    "the context of the `for` that follows it, so this\n",
    "example is equivalent to:"
   ]
  },
  {
   "cell_type": "code",
   "execution_count": null,
   "metadata": {},
   "outputs": [],
   "source": [
    "transposed = []\n",
    "for i in range(4):\n",
    "    transposed.append([row[i] for row in matrix])"
   ]
  },
  {
   "cell_type": "code",
   "execution_count": null,
   "metadata": {},
   "outputs": [],
   "source": [
    "transposed"
   ]
  },
  {
   "cell_type": "markdown",
   "metadata": {},
   "source": [
    "which, in turn, is the same as:"
   ]
  },
  {
   "cell_type": "code",
   "execution_count": null,
   "metadata": {},
   "outputs": [],
   "source": [
    "transposed = []\n",
    "for i in range(4):\n",
    "    # the following 3 lines implement the nested listcomp\n",
    "    transposed_row = []\n",
    "    for row in matrix:\n",
    "        transposed_row.append(row[i])\n",
    "    transposed.append(transposed_row)"
   ]
  },
  {
   "cell_type": "code",
   "execution_count": null,
   "metadata": {},
   "outputs": [],
   "source": [
    "transposed"
   ]
  },
  {
   "cell_type": "markdown",
   "metadata": {},
   "source": [
    "In the real world, you should prefer built-in functions to complex flow\n",
    "statements. The `zip` function would do a great job for\n",
    "this use case:"
   ]
  },
  {
   "cell_type": "code",
   "execution_count": null,
   "metadata": {},
   "outputs": [],
   "source": [
    "list(zip(*matrix))"
   ]
  },
  {
   "cell_type": "markdown",
   "metadata": {},
   "source": [
    "The `del` statement\n",
    "-----------------------------------\n",
    "\n",
    "There is a way to remove an item from a list given its index instead of\n",
    "its value: the `del` statement. This differs from the\n",
    "`pop` method which returns a value. The\n",
    "`del` statement can also be used to remove slices from a\n",
    "list or clear the entire list (which we did earlier by assignment of an\n",
    "empty list to the slice). For example:"
   ]
  },
  {
   "cell_type": "code",
   "execution_count": null,
   "metadata": {},
   "outputs": [],
   "source": [
    "a = [-1, 1, 66.25, 333, 333, 1234.5]\n",
    "del a[0]"
   ]
  },
  {
   "cell_type": "code",
   "execution_count": null,
   "metadata": {},
   "outputs": [],
   "source": [
    "a"
   ]
  },
  {
   "cell_type": "code",
   "execution_count": null,
   "metadata": {},
   "outputs": [],
   "source": [
    "del a[2:4]\n",
    "a"
   ]
  },
  {
   "cell_type": "code",
   "execution_count": null,
   "metadata": {},
   "outputs": [],
   "source": [
    "del a[:]\n",
    "a"
   ]
  },
  {
   "cell_type": "markdown",
   "metadata": {},
   "source": [
    "`del` can also be used to delete entire variables:"
   ]
  },
  {
   "cell_type": "code",
   "execution_count": null,
   "metadata": {},
   "outputs": [],
   "source": [
    "del a"
   ]
  },
  {
   "cell_type": "markdown",
   "metadata": {},
   "source": [
    "Referencing the name `a` hereafter is an error (at least until another\n",
    "value is assigned to it). We'll find other uses for\n",
    "`del` later.\n",
    "\n",
    "Tuples and Sequences\n",
    "--------------------\n",
    "\n",
    "We saw that lists and strings have many common properties, such as\n",
    "indexing and slicing operations. They are two examples of *sequence*\n",
    "data types (see `typesseq`). Since Python is an evolving\n",
    "language, other sequence data types may be added. There is also another\n",
    "standard sequence data type: the *tuple*.\n",
    "\n",
    "A tuple consists of a number of values separated by commas, for\n",
    "instance:"
   ]
  },
  {
   "cell_type": "code",
   "execution_count": null,
   "metadata": {},
   "outputs": [],
   "source": [
    "t = 12345, 54321, 'hello!'\n",
    "t[0]"
   ]
  },
  {
   "cell_type": "code",
   "execution_count": null,
   "metadata": {},
   "outputs": [],
   "source": [
    "t"
   ]
  },
  {
   "cell_type": "code",
   "execution_count": null,
   "metadata": {},
   "outputs": [],
   "source": [
    "# Tuples may be nested:\n",
    "u = t, (1, 2, 3, 4, 5)\n",
    "u"
   ]
  },
  {
   "cell_type": "code",
   "execution_count": null,
   "metadata": {},
   "outputs": [],
   "source": [
    "# Tuples are immutable:\n",
    "t[0] = 88888"
   ]
  },
  {
   "cell_type": "code",
   "execution_count": null,
   "metadata": {},
   "outputs": [],
   "source": [
    "# but they can contain mutable objects:\n",
    "v = ([1, 2, 3], [3, 2, 1])\n",
    "v"
   ]
  },
  {
   "cell_type": "markdown",
   "metadata": {},
   "source": [
    "As you see, on output tuples are always enclosed in parentheses, so that\n",
    "nested tuples are interpreted correctly; they may be input with or\n",
    "without surrounding parentheses, although often parentheses are\n",
    "necessary anyway (if the tuple is part of a larger expression). It is\n",
    "not possible to assign to the individual items of a tuple, however it is\n",
    "possible to create tuples which contain mutable objects, such as lists.\n",
    "\n",
    "Though tuples may seem similar to lists, they are often used in\n",
    "different situations and for different purposes. Tuples are\n",
    "`immutable`, and usually contain a heterogeneous sequence\n",
    "of elements that are accessed via unpacking (see later in this section)\n",
    "or indexing (or even by attribute in the case of\n",
    "`namedtuples`). Lists are\n",
    "`mutable`, and their elements are usually homogeneous and\n",
    "are accessed by iterating over the list.\n",
    "\n",
    "A special problem is the construction of tuples containing 0 or 1 items:\n",
    "the syntax has some extra quirks to accommodate these. Empty tuples are\n",
    "constructed by an empty pair of parentheses; a tuple with one item is\n",
    "constructed by following a value with a comma (it is not sufficient to\n",
    "enclose a single value in parentheses). Ugly, but effective. For\n",
    "example:"
   ]
  },
  {
   "cell_type": "code",
   "execution_count": null,
   "metadata": {},
   "outputs": [],
   "source": [
    "empty = ()\n",
    "singleton = 'hello',    # <-- note trailing comma\n",
    "len(empty)"
   ]
  },
  {
   "cell_type": "code",
   "execution_count": null,
   "metadata": {},
   "outputs": [],
   "source": [
    "len(singleton)"
   ]
  },
  {
   "cell_type": "code",
   "execution_count": null,
   "metadata": {},
   "outputs": [],
   "source": [
    "singleton"
   ]
  },
  {
   "cell_type": "markdown",
   "metadata": {},
   "source": [
    "The statement `t = 12345, 54321, 'hello!'` is an example of *tuple\n",
    "packing*: the values `12345`, `54321` and `'hello!'` are packed together\n",
    "in a tuple. The reverse operation is also possible:"
   ]
  },
  {
   "cell_type": "code",
   "execution_count": null,
   "metadata": {},
   "outputs": [],
   "source": [
    "x, y, z = t\n",
    "print(t)\n",
    "print(x, y, z)"
   ]
  },
  {
   "cell_type": "markdown",
   "metadata": {},
   "source": [
    "This is called, appropriately enough, *sequence unpacking* and works for\n",
    "any sequence on the right-hand side. Sequence unpacking requires that\n",
    "there are as many variables on the left side of the equals sign as there\n",
    "are elements in the sequence. Note that multiple assignment is really\n",
    "just a combination of tuple packing and sequence unpacking.\n",
    "\n",
    "Sets\n",
    "----\n",
    "\n",
    "Python also includes a data type for *sets*. A set is an unordered\n",
    "collection with no duplicate elements. Basic uses include membership\n",
    "testing and eliminating duplicate entries. Set objects also support\n",
    "mathematical operations like union, intersection, difference, and\n",
    "symmetric difference.\n",
    "\n",
    "Curly braces or the `set` function can be used to create\n",
    "sets. Note: to create an empty set you have to use `set()`, not `{}`;\n",
    "the latter creates an empty dictionary, a data structure that we discuss\n",
    "in the next section.\n",
    "\n",
    "Here is a brief demonstration:"
   ]
  },
  {
   "cell_type": "code",
   "execution_count": null,
   "metadata": {},
   "outputs": [],
   "source": [
    "basket = {'apple', 'orange', 'apple', 'pear', 'orange', 'banana'}\n",
    "print(basket)                      # show that duplicates have been removed"
   ]
  },
  {
   "cell_type": "code",
   "execution_count": null,
   "metadata": {},
   "outputs": [],
   "source": [
    "'orange' in basket                 # fast membership testing"
   ]
  },
  {
   "cell_type": "code",
   "execution_count": null,
   "metadata": {},
   "outputs": [],
   "source": [
    "'crabgrass' in basket"
   ]
  },
  {
   "cell_type": "code",
   "execution_count": null,
   "metadata": {},
   "outputs": [],
   "source": [
    "# Demonstrate set operations on unique letters from two words\n",
    "a = set('abracadabra')\n",
    "b = set('alacazam')\n",
    "a                                  # unique letters in a"
   ]
  },
  {
   "cell_type": "code",
   "execution_count": null,
   "metadata": {},
   "outputs": [],
   "source": [
    "a - b                              # letters in a but not in b"
   ]
  },
  {
   "cell_type": "code",
   "execution_count": null,
   "metadata": {},
   "outputs": [],
   "source": [
    "a | b                              # letters in either a or b"
   ]
  },
  {
   "cell_type": "code",
   "execution_count": null,
   "metadata": {},
   "outputs": [],
   "source": [
    "a & b                              # letters in both a and b"
   ]
  },
  {
   "cell_type": "code",
   "execution_count": null,
   "metadata": {},
   "outputs": [],
   "source": [
    "a ^ b                              # letters in a or b but not both"
   ]
  },
  {
   "cell_type": "markdown",
   "metadata": {},
   "source": [
    "Similarly to `list comprehensions`, set\n",
    "comprehensions are also supported:"
   ]
  },
  {
   "cell_type": "code",
   "execution_count": null,
   "metadata": {},
   "outputs": [],
   "source": [
    "a = {x for x in 'abracadabra' if x not in 'abc'}\n",
    "a"
   ]
  },
  {
   "cell_type": "markdown",
   "metadata": {},
   "source": [
    "Dictionaries\n",
    "------------\n",
    "\n",
    "Another useful data type built into Python is the *dictionary* (see\n",
    "`typesmapping`). Dictionaries are sometimes found in other\n",
    "languages as \"associative memories\" or \"associative arrays\". Unlike\n",
    "sequences, which are indexed by a range of numbers, dictionaries are\n",
    "indexed by *keys*, which can be any immutable type; strings and numbers\n",
    "can always be keys. Tuples can be used as keys if they contain only\n",
    "strings, numbers, or tuples; if a tuple contains any mutable object\n",
    "either directly or indirectly, it cannot be used as a key. You can't\n",
    "use lists as keys, since lists can be modified in place using index\n",
    "assignments, slice assignments, or methods like `append`\n",
    "and `extend`.\n",
    "\n",
    "It is best to think of a dictionary as an unordered set of *key: value*\n",
    "pairs, with the requirement that the keys are unique (within one\n",
    "dictionary). A pair of braces creates an empty dictionary: `{}`. Placing\n",
    "a comma-separated list of key:value pairs within the braces adds initial\n",
    "key:value pairs to the dictionary; this is also the way dictionaries are\n",
    "written on output.\n",
    "\n",
    "The main operations on a dictionary are storing a value with some key\n",
    "and extracting the value given the key. It is also possible to delete a\n",
    "key:value pair with `del`. If you store using a key that is already in\n",
    "use, the old value associated with that key is forgotten. It is an error\n",
    "to extract a value using a non-existent key.\n",
    "\n",
    "Performing `list(d.keys())` on a dictionary returns a list of all the\n",
    "keys used in the dictionary, in arbitrary order (if you want it sorted,\n",
    "just use `sorted(d.keys())` instead).[^2] To check whether a single key\n",
    "is in the dictionary, use the `in` keyword.\n",
    "\n",
    "Here is a small example using a dictionary:"
   ]
  },
  {
   "cell_type": "code",
   "execution_count": null,
   "metadata": {},
   "outputs": [],
   "source": [
    "tel = {'jack': 4098, 'sape': 4139}\n",
    "tel['guido'] = 4127\n",
    "tel"
   ]
  },
  {
   "cell_type": "code",
   "execution_count": null,
   "metadata": {},
   "outputs": [],
   "source": [
    "tel['jack']"
   ]
  },
  {
   "cell_type": "code",
   "execution_count": null,
   "metadata": {},
   "outputs": [],
   "source": [
    "del tel['sape']\n",
    "tel['irv'] = 4127\n",
    "tel"
   ]
  },
  {
   "cell_type": "code",
   "execution_count": null,
   "metadata": {},
   "outputs": [],
   "source": [
    "list(tel.keys())"
   ]
  },
  {
   "cell_type": "code",
   "execution_count": null,
   "metadata": {},
   "outputs": [],
   "source": [
    "sorted(tel.keys())"
   ]
  },
  {
   "cell_type": "code",
   "execution_count": null,
   "metadata": {},
   "outputs": [],
   "source": [
    "'guido' in tel"
   ]
  },
  {
   "cell_type": "code",
   "execution_count": null,
   "metadata": {},
   "outputs": [],
   "source": [
    "'jack' not in tel"
   ]
  },
  {
   "cell_type": "markdown",
   "metadata": {},
   "source": [
    "The `dict` constructor builds dictionaries directly from\n",
    "sequences of key-value pairs:"
   ]
  },
  {
   "cell_type": "code",
   "execution_count": null,
   "metadata": {},
   "outputs": [],
   "source": [
    "dict([('sape', 4139), ('guido', 4127), ('jack', 4098)])"
   ]
  },
  {
   "cell_type": "markdown",
   "metadata": {},
   "source": [
    "In addition, dict comprehensions can be used to create dictionaries from\n",
    "arbitrary key and value expressions:"
   ]
  },
  {
   "cell_type": "code",
   "execution_count": null,
   "metadata": {},
   "outputs": [],
   "source": [
    "{x: x**2 for x in (2, 4, 6)}"
   ]
  },
  {
   "cell_type": "markdown",
   "metadata": {},
   "source": [
    "When the keys are simple strings, it is sometimes easier to specify\n",
    "pairs using keyword arguments:"
   ]
  },
  {
   "cell_type": "code",
   "execution_count": null,
   "metadata": {},
   "outputs": [],
   "source": [
    "dict(sape=4139, guido=4127, jack=4098)"
   ]
  },
  {
   "cell_type": "markdown",
   "metadata": {},
   "source": [
    "Looping Techniques\n",
    "------------------\n",
    "\n",
    "When looping through dictionaries, the key and corresponding value can\n",
    "be retrieved at the same time using the `items` method. :"
   ]
  },
  {
   "cell_type": "code",
   "execution_count": null,
   "metadata": {},
   "outputs": [],
   "source": [
    "knights = {'gallahad': 'the pure', 'robin': 'the brave'}\n",
    "for k, v in knights.items():\n",
    "    print(k, v)"
   ]
  },
  {
   "cell_type": "markdown",
   "metadata": {},
   "source": [
    "When looping through a sequence, the position index and corresponding\n",
    "value can be retrieved at the same time using the\n",
    "`enumerate` function. :"
   ]
  },
  {
   "cell_type": "code",
   "execution_count": null,
   "metadata": {},
   "outputs": [],
   "source": [
    "for i, v in enumerate(['tic', 'tac', 'toe']):\n",
    "    print(i, v)"
   ]
  },
  {
   "cell_type": "markdown",
   "metadata": {},
   "source": [
    "To loop over two or more sequences at the same time, the entries can be\n",
    "paired with the `zip` function. :"
   ]
  },
  {
   "cell_type": "code",
   "execution_count": null,
   "metadata": {},
   "outputs": [],
   "source": [
    "questions = ['name', 'quest', 'favorite color']\n",
    "answers = ['lancelot', 'the holy grail', 'blue']\n",
    "for q, a in zip(questions, answers):\n",
    "    print('What is your {0}?  It is {1}.'.format(q, a))"
   ]
  },
  {
   "cell_type": "markdown",
   "metadata": {},
   "source": [
    "To loop over a sequence in reverse, first specify the sequence in a\n",
    "forward direction and then call the `reversed` function. :"
   ]
  },
  {
   "cell_type": "code",
   "execution_count": null,
   "metadata": {},
   "outputs": [],
   "source": [
    "for i in reversed(range(1, 10, 2)):\n",
    "    print(i)"
   ]
  },
  {
   "cell_type": "markdown",
   "metadata": {},
   "source": [
    "To loop over a sequence in sorted order, use the `sorted`\n",
    "function which returns a new sorted list while leaving the source\n",
    "unaltered. :"
   ]
  },
  {
   "cell_type": "code",
   "execution_count": null,
   "metadata": {},
   "outputs": [],
   "source": [
    "basket = ['apple', 'orange', 'apple', 'pear', 'orange', 'banana']\n",
    "for f in sorted(set(basket)):\n",
    "    print(f)"
   ]
  },
  {
   "cell_type": "markdown",
   "metadata": {},
   "source": [
    "It is sometimes tempting to change a list while you are looping over it;\n",
    "however, it is often simpler and safer to create a new list instead. :"
   ]
  },
  {
   "cell_type": "code",
   "execution_count": null,
   "metadata": {},
   "outputs": [],
   "source": [
    "import math\n",
    "raw_data = [56.2, float('NaN'), 51.7, 55.3, 52.5, float('NaN'), 47.8]\n",
    "filtered_data = []\n",
    "for value in raw_data:\n",
    "    if not math.isnan(value):\n",
    "        filtered_data.append(value)"
   ]
  },
  {
   "cell_type": "code",
   "execution_count": null,
   "metadata": {},
   "outputs": [],
   "source": [
    "filtered_data"
   ]
  },
  {
   "cell_type": "markdown",
   "metadata": {},
   "source": [
    "More on Conditions\n",
    "------------------\n",
    "\n",
    "The conditions used in `while` and `if` statements can contain any\n",
    "operators, not just comparisons.\n",
    "\n",
    "The comparison operators `in` and `not in` check whether a value occurs\n",
    "(does not occur) in a sequence. The operators `is` and `is not` compare\n",
    "whether two objects are really the same object; this only matters for\n",
    "mutable objects like lists. All comparison operators have the same\n",
    "priority, which is lower than that of all numerical operators.\n",
    "\n",
    "Comparisons can be chained. For example, `a < b == c` tests whether `a`\n",
    "is less than `b` and moreover `b` equals `c`.\n",
    "\n",
    "Comparisons may be combined using the Boolean operators `and` and `or`,\n",
    "and the outcome of a comparison (or of any other Boolean expression) may\n",
    "be negated with `not`. These have lower priorities than comparison\n",
    "operators; between them, `not` has the highest priority and `or` the\n",
    "lowest, so that `A and not B or C` is equivalent to\n",
    "`(A and (not B)) or C`. As always, parentheses can be used to express\n",
    "the desired composition.\n",
    "\n",
    "The Boolean operators `and` and `or` are so-called *short-circuit*\n",
    "operators: their arguments are evaluated from left to right, and\n",
    "evaluation stops as soon as the outcome is determined. For example, if\n",
    "`A` and `C` are true but `B` is false, `A and B and C` does not evaluate\n",
    "the expression `C`. When used as a general value and not as a Boolean,\n",
    "the return value of a short-circuit operator is the last evaluated\n",
    "argument.\n",
    "\n",
    "It is possible to assign the result of a comparison or other Boolean\n",
    "expression to a variable. For example, :"
   ]
  },
  {
   "cell_type": "code",
   "execution_count": null,
   "metadata": {},
   "outputs": [],
   "source": [
    "string1, string2, string3 = '', 'Trondheim', 'Hammer Dance'\n",
    "non_null = string1 or string2 or string3\n",
    "non_null"
   ]
  },
  {
   "cell_type": "markdown",
   "metadata": {},
   "source": [
    "Note that in Python, unlike C, assignment cannot occur inside\n",
    "expressions. C programmers may grumble about this, but it avoids a\n",
    "common class of problems encountered in C programs: typing `=` in an\n",
    "expression when `==` was intended.\n",
    "\n",
    "Comparing Sequences and Other Types\n",
    "-----------------------------------\n",
    "\n",
    "Sequence objects may be compared to other objects with the same sequence\n",
    "type. The comparison uses *lexicographical* ordering: first the first\n",
    "two items are compared, and if they differ this determines the outcome\n",
    "of the comparison; if they are equal, the next two items are compared,\n",
    "and so on, until either sequence is exhausted. If two items to be\n",
    "compared are themselves sequences of the same type, the lexicographical\n",
    "comparison is carried out recursively. If all items of two sequences\n",
    "compare equal, the sequences are considered equal. If one sequence is an\n",
    "initial sub-sequence of the other, the shorter sequence is the smaller\n",
    "(lesser) one. Lexicographical ordering for strings uses the Unicode code\n",
    "point number to order individual characters. Some examples of\n",
    "comparisons between sequences of the same type:"
   ]
  },
  {
   "cell_type": "markdown",
   "metadata": {},
   "source": [
    "\n",
    "    (1, 2, 3)              < (1, 2, 4)\n",
    "    [1, 2, 3]              < [1, 2, 4]\n",
    "    'ABC' < 'C' < 'Pascal' < 'Python'\n",
    "    (1, 2, 3, 4)           < (1, 2, 4)\n",
    "    (1, 2)                 < (1, 2, -1)\n",
    "    (1, 2, 3)             == (1.0, 2.0, 3.0)\n",
    "    (1, 2, ('aa', 'ab'))   < (1, 2, ('abc', 'a'), 4)\n"
   ]
  },
  {
   "cell_type": "markdown",
   "metadata": {},
   "source": [
    "Note that comparing objects of different types with `<` or `>` is legal\n",
    "provided that the objects have appropriate comparison methods. For\n",
    "example, mixed numeric types are compared according to their numeric\n",
    "value, so 0 equals 0.0, etc. Otherwise, rather than providing an\n",
    "arbitrary ordering, the interpreter will raise a `TypeError`\n",
    "exception.\n",
    "\n",
    "**Footnotes**\n",
    "\n",
    "[^1]: Other languages may return the mutated object, which allows method\n",
    "    chaining, such as `d->insert(\"a\")->remove(\"b\")->sort();`.\n",
    "\n",
    "[^2]: Calling `d.keys()` will return a `dictionary view`\n",
    "    object. It supports operations like membership test and iteration,\n",
    "    but its contents are not independent of the original dictionary --\n",
    "    it is only a *view*.\n",
    "\n",
    "[^3]: Copyright (c) 2001, 2002, 2003, 2004, 2005, 2006, 2007, 2008, 2009, 2010,\n",
    "2011, 2012, 2013, 2014, 2015, 2016, 2017, 2018 Python Software Foundation; All\n",
    "Rights Reserved. [Python Software Foundation License Version 2](https://github.com/python/cpython/blob/3.7/LICENSE)"
   ]
  }
 ],
 "metadata": {
  "kernelspec": {
   "display_name": "Python 3 (ipykernel)",
   "language": "python",
   "name": "python3"
  },
  "language_info": {
   "codemirror_mode": {
    "name": "ipython",
    "version": 3
   },
   "file_extension": ".py",
   "mimetype": "text/x-python",
   "name": "python",
   "nbconvert_exporter": "python",
   "pygments_lexer": "ipython3",
   "version": "3.12.3"
  },
  "vscode": {
   "interpreter": {
    "hash": "1c78f10d2235d1cc76672263ebc37c14f728e879c04c113ab28debe73ea4c75b"
   }
  }
 },
 "nbformat": 4,
 "nbformat_minor": 4
}
