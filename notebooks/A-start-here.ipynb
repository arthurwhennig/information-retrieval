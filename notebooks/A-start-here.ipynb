{
 "cells": [
  {
   "cell_type": "markdown",
   "metadata": {},
   "source": [
    "Welcome to Information Retrieval FS 2025.\n",
    "\n",
    "This is the Jupyter Notebook platform\n",
    "you will use for coding exercises throughout the course.\n",
    "\n",
    "To run the code in a\n",
    "cell below:\n",
    "\n",
    "1. Click on the cell to select it.\n",
    "2. Press SHIFT+ENTER on your\n",
    "keyboard or press the play button (▶️) in the toolbar above."
   ]
  },
  {
   "cell_type": "code",
   "execution_count": 2,
   "metadata": {},
   "outputs": [
    {
     "data": {
      "text/plain": [
       "7"
      ]
     },
     "execution_count": 2,
     "metadata": {},
     "output_type": "execute_result"
    }
   ],
   "source": [
    "3 + 4"
   ]
  },
  {
   "cell_type": "markdown",
   "metadata": {},
   "source": [
    "To add a new cell press ➕ in the toolbar\n",
    "above, or press ␛ and `b`."
   ]
  },
  {
   "cell_type": "code",
   "execution_count": null,
   "metadata": {},
   "outputs": [],
   "source": [
    "# try and add a cell after this"
   ]
  },
  {
   "cell_type": "code",
   "execution_count": null,
   "metadata": {},
   "outputs": [],
   "source": []
  },
  {
   "cell_type": "markdown",
   "metadata": {},
   "source": [
    "See \"Help\" -> \"Keyboard Shortcuts\" for more\n",
    "info. You will rarely need to change the notebook: most often you'll just need\n",
    "to edit and run the provided code snippets.\n",
    "\n",
    "Variables that you've defined in a code block you've executed remain available\n",
    "until you stop the notebook.\n",
    "Execute the following snippet:"
   ]
  },
  {
   "cell_type": "code",
   "execution_count": 1,
   "metadata": {},
   "outputs": [],
   "source": [
    "today = 'Friday'"
   ]
  },
  {
   "cell_type": "markdown",
   "metadata": {},
   "source": [
    "You can now reference the variable from another code cell: (execute the\n",
    "following snippet)"
   ]
  },
  {
   "cell_type": "code",
   "execution_count": 3,
   "metadata": {},
   "outputs": [
    {
     "data": {
      "text/plain": [
       "'Today is Friday'"
      ]
     },
     "execution_count": 3,
     "metadata": {},
     "output_type": "execute_result"
    }
   ],
   "source": [
    "'Today is ' + today"
   ]
  },
  {
   "cell_type": "markdown",
   "metadata": {},
   "source": [
    "You can now move on to the Python tutorial. Don't forget to select \"File\" ->\n",
    "\"Close and Shut Down Notebook\" to free up memory for your other notebooks."
   ]
  }
 ],
 "metadata": {
  "kernelspec": {
   "display_name": "Python 3",
   "language": "python",
   "name": "python3"
  },
  "language_info": {
   "codemirror_mode": {
    "name": "ipython",
    "version": 3
   },
   "file_extension": ".py",
   "mimetype": "text/x-python",
   "name": "python",
   "nbconvert_exporter": "python",
   "pygments_lexer": "ipython3",
   "version": "3.11.11"
  }
 },
 "nbformat": 4,
 "nbformat_minor": 4
}
